{
 "cells": [
  {
   "cell_type": "code",
   "execution_count": 1,
   "metadata": {
    "collapsed": true,
    "pycharm": {
     "name": "#%%\n"
    }
   },
   "outputs": [
    {
     "ename": "AttributeError",
     "evalue": "module 'tensorflow' has no attribute 'contrib'",
     "output_type": "error",
     "traceback": [
      "\u001B[1;31m---------------------------------------------------------------------------\u001B[0m",
      "\u001B[1;31mAttributeError\u001B[0m                            Traceback (most recent call last)",
      "Cell \u001B[1;32mIn[1], line 10\u001B[0m\n\u001B[0;32m      8\u001B[0m \u001B[38;5;28;01mimport\u001B[39;00m \u001B[38;5;21;01mpreprocessing\u001B[39;00m \n\u001B[0;32m      9\u001B[0m \u001B[38;5;28;01mimport\u001B[39;00m \u001B[38;5;21;01mpost_processing\u001B[39;00m\n\u001B[1;32m---> 10\u001B[0m \u001B[38;5;28;01mimport\u001B[39;00m \u001B[38;5;21;01mnetworks\u001B[39;00m \u001B[38;5;28;01mas\u001B[39;00m \u001B[38;5;21;01mnet\u001B[39;00m\n",
      "File \u001B[1;32mC:\\softAndDoc\\Document\\Learning\\Work\\文献阅读\\CrystalGAN\\Code\\CrystalGAN\\networks.py:14\u001B[0m\n\u001B[0;32m     11\u001B[0m \u001B[38;5;28;01mimport\u001B[39;00m \u001B[38;5;21;01mtensorflow\u001B[39;00m \u001B[38;5;28;01mas\u001B[39;00m \u001B[38;5;21;01mtf\u001B[39;00m \u001B[38;5;66;03m# machine learning\u001B[39;00m\n\u001B[0;32m     13\u001B[0m \u001B[38;5;66;03m# tf slim to define complex networks easily & quickly\u001B[39;00m\n\u001B[1;32m---> 14\u001B[0m slim \u001B[38;5;241m=\u001B[39m \u001B[43mtf\u001B[49m\u001B[38;5;241;43m.\u001B[39;49m\u001B[43mcontrib\u001B[49m\u001B[38;5;241m.\u001B[39mslim \n\u001B[0;32m     16\u001B[0m \u001B[38;5;66;03m## Multilayer neural networks\u001B[39;00m\n\u001B[0;32m     17\u001B[0m \n\u001B[0;32m     18\u001B[0m \u001B[38;5;66;03m# Generative network\u001B[39;00m\n\u001B[0;32m     19\u001B[0m \u001B[38;5;28;01mdef\u001B[39;00m \u001B[38;5;21mGenerator_AHB\u001B[39m(y, input_dim, n_layer, n_hidden, eps_dim, reuse_):     \n",
      "\u001B[1;31mAttributeError\u001B[0m: module 'tensorflow' has no attribute 'contrib'"
     ]
    }
   ],
   "source": [
    "import os # saving files\n",
    "import numpy as np # for matrix math\n",
    "import matplotlib.pyplot as plt # plot and visualizing data\n",
    "import tensorflow as tf\n",
    "from data_utils import shuffle, iter_data # analyzing data\n",
    "from tqdm import tqdm # progress bar\n",
    "\n",
    "import preprocessing\n",
    "import post_processing\n",
    "import networks as net"
   ]
  }
 ],
 "metadata": {
  "kernelspec": {
   "display_name": "Python 3",
   "language": "python",
   "name": "python3"
  },
  "language_info": {
   "codemirror_mode": {
    "name": "ipython",
    "version": 2
   },
   "file_extension": ".py",
   "mimetype": "text/x-python",
   "name": "python",
   "nbconvert_exporter": "python",
   "pygments_lexer": "ipython2",
   "version": "2.7.6"
  }
 },
 "nbformat": 4,
 "nbformat_minor": 0
}