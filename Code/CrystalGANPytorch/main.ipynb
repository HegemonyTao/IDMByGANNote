{
 "cells": [
  {
   "cell_type": "code",
   "execution_count": 34,
   "outputs": [],
   "source": [
    "import os # saving files\n",
    "import numpy as np # for matrix math\n",
    "import matplotlib.pyplot as plt # plot and visualizing data\n",
    "from data_utils import shuffle, iter_data # analyzing data\n",
    "from tqdm import tqdm # progress bar\n",
    "import preprocessing\n",
    "import post_processing"
   ],
   "metadata": {
    "collapsed": false,
    "pycharm": {
     "name": "#%%\n"
    }
   }
  },
  {
   "cell_type": "code",
   "execution_count": 35,
   "outputs": [
    {
     "name": "stdout",
     "output_type": "stream",
     "text": [
      "(35, 4)\n",
      "(35, 4)\n"
     ]
    }
   ],
   "source": [
    "#读取数据\n",
    "NiH = preprocessing.read_data('data/NiH_dataset.mat')\n",
    "PdH = preprocessing.read_data('data/PdH_dataset.mat')\n",
    "print(np.shape(NiH))\n",
    "print(np.shape(PdH))"
   ],
   "metadata": {
    "collapsed": false,
    "pycharm": {
     "name": "#%%\n"
    }
   }
  },
  {
   "cell_type": "code",
   "execution_count": 36,
   "outputs": [
    {
     "data": {
      "text/plain": "18"
     },
     "execution_count": 36,
     "metadata": {},
     "output_type": "execute_result"
    }
   ],
   "source": [
    "#获取每种元素的最大行数\n",
    "max_PdH = preprocessing.compute_max(PdH)\n",
    "max_NiH = preprocessing.compute_max(NiH)\n",
    "max_len=max(max_PdH,max_NiH)\n",
    "max_len"
   ],
   "metadata": {
    "collapsed": false,
    "pycharm": {
     "name": "#%%\n"
    }
   }
  },
  {
   "cell_type": "code",
   "execution_count": 37,
   "outputs": [
    {
     "name": "stdout",
     "output_type": "stream",
     "text": [
      "(35, 4, 18, 3)\n",
      "(35, 4, 18, 3)\n"
     ]
    }
   ],
   "source": [
    "#做数据填充（0）\n",
    "Ni_H = preprocessing.data_padding(NiH,max_len)\n",
    "Pd_H = preprocessing.data_padding(PdH,max_len)\n",
    "print(np.array(Ni_H).shape)\n",
    "print(np.array(Pd_H).shape)"
   ],
   "metadata": {
    "collapsed": false,
    "pycharm": {
     "name": "#%%\n"
    }
   }
  },
  {
   "cell_type": "code",
   "execution_count": 38,
   "outputs": [],
   "source": [
    "#定义超参数\n",
    "n_epoch =100\n",
    "batch_size  = 35\n",
    "input_dim = 3\n",
    "latent_dim = 3\n",
    "eps_dim = 3\n",
    "\n",
    "# 判别器\n",
    "n_layer_disc = 5\n",
    "n_hidden_disc = 100\n",
    "\n",
    "# 生成器\n",
    "n_layer_gen = 5\n",
    "n_hidden_gen= 100\n",
    "\n",
    "# 另一个生成器\n",
    "n_layer_inf = 5\n",
    "n_hidden_inf= 100"
   ],
   "metadata": {
    "collapsed": false,
    "pycharm": {
     "name": "#%%\n"
    }
   }
  },
  {
   "cell_type": "code",
   "execution_count": 39,
   "outputs": [
    {
     "name": "stdout",
     "output_type": "stream",
     "text": [
      "(35, 4, 18, 3)\n",
      "(35, 4, 18, 3)\n"
     ]
    }
   ],
   "source": [
    "#创建结果文件夹\n",
    "result_dir = 'STEP1+STEP2_CrsytalGAN/'\n",
    "directory = result_dir\n",
    "if not os.path.exists(directory):\n",
    "    os.makedirs(directory)\n",
    "# AH和BH的真实样本\n",
    "# 在本例中是Pd_H和Ni_H\n",
    "AH_dataset = Pd_H\n",
    "BH_dataset = Ni_H\n",
    "print(np.array(AH_dataset).shape)\n",
    "print(np.array(BH_dataset).shape)"
   ],
   "metadata": {
    "collapsed": false,
    "pycharm": {
     "name": "#%%\n"
    }
   }
  },
  {
   "cell_type": "code",
   "execution_count": 40,
   "outputs": [],
   "source": [
    "from Dataset import AHBDataset\n",
    "from torch.utils.data import DataLoader\n",
    "dataSet=AHBDataset(AH_dataset,BH_dataset)\n",
    "dataLoader=DataLoader(dataSet,batch_size=batch_size,shuffle=True)"
   ],
   "metadata": {
    "collapsed": false,
    "pycharm": {
     "name": "#%%\n"
    }
   }
  },
  {
   "cell_type": "code",
   "execution_count": 46,
   "outputs": [
    {
     "name": "stdout",
     "output_type": "stream",
     "text": [
      "35\n",
      "[tensor([[[ 2.6677e+00,  0.0000e+00,  0.0000e+00],\n",
      "         [ 0.0000e+00,  2.6677e+00,  0.0000e+00],\n",
      "         [ 0.0000e+00,  0.0000e+00,  2.6677e+00],\n",
      "         ...,\n",
      "         [ 0.0000e+00,  0.0000e+00,  0.0000e+00],\n",
      "         [ 0.0000e+00,  0.0000e+00,  0.0000e+00],\n",
      "         [ 0.0000e+00,  0.0000e+00,  0.0000e+00]],\n",
      "\n",
      "        [[ 4.1298e+00, -2.0000e-16,  0.0000e+00],\n",
      "         [ 2.0000e-16,  4.1152e+00,  0.0000e+00],\n",
      "         [ 0.0000e+00,  0.0000e+00,  4.5060e+00],\n",
      "         ...,\n",
      "         [ 0.0000e+00,  0.0000e+00,  0.0000e+00],\n",
      "         [ 0.0000e+00,  0.0000e+00,  0.0000e+00],\n",
      "         [ 0.0000e+00,  0.0000e+00,  0.0000e+00]],\n",
      "\n",
      "        [[ 4.0494e+00,  0.0000e+00,  0.0000e+00],\n",
      "         [ 0.0000e+00,  4.0440e+00,  0.0000e+00],\n",
      "         [ 0.0000e+00,  0.0000e+00,  4.2056e+00],\n",
      "         ...,\n",
      "         [ 0.0000e+00,  0.0000e+00,  0.0000e+00],\n",
      "         [ 0.0000e+00,  0.0000e+00,  0.0000e+00],\n",
      "         [ 0.0000e+00,  0.0000e+00,  0.0000e+00]],\n",
      "\n",
      "        ...,\n",
      "\n",
      "        [[ 3.9562e+00,  0.0000e+00,  0.0000e+00],\n",
      "         [ 2.0000e-16,  3.9562e+00,  0.0000e+00],\n",
      "         [ 2.0000e-16,  2.0000e-16,  3.9562e+00],\n",
      "         ...,\n",
      "         [ 0.0000e+00,  0.0000e+00,  0.0000e+00],\n",
      "         [ 0.0000e+00,  0.0000e+00,  0.0000e+00],\n",
      "         [ 0.0000e+00,  0.0000e+00,  0.0000e+00]],\n",
      "\n",
      "        [[ 2.0665e+00,  2.0665e+00,  0.0000e+00],\n",
      "         [ 0.0000e+00,  2.0665e+00,  2.0665e+00],\n",
      "         [ 2.0665e+00,  0.0000e+00,  2.0665e+00],\n",
      "         ...,\n",
      "         [ 0.0000e+00,  0.0000e+00,  0.0000e+00],\n",
      "         [ 0.0000e+00,  0.0000e+00,  0.0000e+00],\n",
      "         [ 0.0000e+00,  0.0000e+00,  0.0000e+00]],\n",
      "\n",
      "        [[ 2.9723e+00,  1.0462e-12,  0.0000e+00],\n",
      "         [-1.4862e+00,  2.5741e+00,  0.0000e+00],\n",
      "         [ 0.0000e+00,  0.0000e+00,  4.9955e+00],\n",
      "         ...,\n",
      "         [ 0.0000e+00,  0.0000e+00,  0.0000e+00],\n",
      "         [ 0.0000e+00,  0.0000e+00,  0.0000e+00],\n",
      "         [ 0.0000e+00,  0.0000e+00,  0.0000e+00]]], dtype=torch.float64), tensor([[[ 1.3339e+00,  1.3339e+00,  1.3339e+00],\n",
      "         [ 0.0000e+00,  0.0000e+00,  0.0000e+00],\n",
      "         [ 0.0000e+00,  0.0000e+00,  0.0000e+00],\n",
      "         ...,\n",
      "         [ 0.0000e+00,  0.0000e+00,  0.0000e+00],\n",
      "         [ 0.0000e+00,  0.0000e+00,  0.0000e+00],\n",
      "         [ 0.0000e+00,  0.0000e+00,  0.0000e+00]],\n",
      "\n",
      "        [[ 1.0324e+00,  1.0288e+00,  3.3795e+00],\n",
      "         [ 3.0973e+00,  3.0864e+00,  1.1265e+00],\n",
      "         [ 1.0324e+00,  1.0288e+00,  1.1265e+00],\n",
      "         ...,\n",
      "         [ 0.0000e+00,  0.0000e+00,  0.0000e+00],\n",
      "         [ 0.0000e+00,  0.0000e+00,  0.0000e+00],\n",
      "         [ 0.0000e+00,  0.0000e+00,  0.0000e+00]],\n",
      "\n",
      "        [[ 0.0000e+00,  0.0000e+00,  0.0000e+00],\n",
      "         [ 2.0247e+00,  2.0220e+00,  0.0000e+00],\n",
      "         [ 0.0000e+00,  0.0000e+00,  0.0000e+00],\n",
      "         ...,\n",
      "         [ 0.0000e+00,  0.0000e+00,  0.0000e+00],\n",
      "         [ 0.0000e+00,  0.0000e+00,  0.0000e+00],\n",
      "         [ 0.0000e+00,  0.0000e+00,  0.0000e+00]],\n",
      "\n",
      "        ...,\n",
      "\n",
      "        [[ 1.9781e+00,  1.9781e+00,  1.9781e+00],\n",
      "         [ 1.9781e+00,  0.0000e+00,  0.0000e+00],\n",
      "         [ 1.0000e-16,  1.9781e+00,  0.0000e+00],\n",
      "         ...,\n",
      "         [ 0.0000e+00,  0.0000e+00,  0.0000e+00],\n",
      "         [ 0.0000e+00,  0.0000e+00,  0.0000e+00],\n",
      "         [ 0.0000e+00,  0.0000e+00,  0.0000e+00]],\n",
      "\n",
      "        [[ 2.0565e+00,  2.0665e+00,  2.0665e+00],\n",
      "         [ 0.0000e+00,  0.0000e+00,  0.0000e+00],\n",
      "         [ 0.0000e+00,  0.0000e+00,  0.0000e+00],\n",
      "         ...,\n",
      "         [ 0.0000e+00,  0.0000e+00,  0.0000e+00],\n",
      "         [ 0.0000e+00,  0.0000e+00,  0.0000e+00],\n",
      "         [ 0.0000e+00,  0.0000e+00,  0.0000e+00]],\n",
      "\n",
      "        [[-1.5198e-09,  1.7161e+00,  3.7469e-02],\n",
      "         [ 1.4862e+00,  8.5804e-01,  2.5352e+00],\n",
      "         [ 0.0000e+00,  0.0000e+00,  0.0000e+00],\n",
      "         ...,\n",
      "         [ 0.0000e+00,  0.0000e+00,  0.0000e+00],\n",
      "         [ 0.0000e+00,  0.0000e+00,  0.0000e+00],\n",
      "         [ 0.0000e+00,  0.0000e+00,  0.0000e+00]]], dtype=torch.float64), tensor([[[ 0.0000e+00,  0.0000e+00,  0.0000e+00],\n",
      "         [ 0.0000e+00,  0.0000e+00,  0.0000e+00],\n",
      "         [ 0.0000e+00,  0.0000e+00,  0.0000e+00],\n",
      "         ...,\n",
      "         [ 0.0000e+00,  0.0000e+00,  0.0000e+00],\n",
      "         [ 0.0000e+00,  0.0000e+00,  0.0000e+00],\n",
      "         [ 0.0000e+00,  0.0000e+00,  0.0000e+00]],\n",
      "\n",
      "        [[ 0.0000e+00,  0.0000e+00,  0.0000e+00],\n",
      "         [ 2.0649e+00,  2.0576e+00,  0.0000e+00],\n",
      "         [ 2.0649e+00, -1.0000e-16,  2.2530e+00],\n",
      "         ...,\n",
      "         [ 0.0000e+00,  0.0000e+00,  0.0000e+00],\n",
      "         [ 0.0000e+00,  0.0000e+00,  0.0000e+00],\n",
      "         [ 0.0000e+00,  0.0000e+00,  0.0000e+00]],\n",
      "\n",
      "        [[ 1.0124e+00,  1.0110e+00,  1.1123e+00],\n",
      "         [ 3.0371e+00,  3.0330e+00,  1.1123e+00],\n",
      "         [ 3.0371e+00,  1.0110e+00,  3.0932e+00],\n",
      "         ...,\n",
      "         [ 0.0000e+00,  0.0000e+00,  0.0000e+00],\n",
      "         [ 0.0000e+00,  0.0000e+00,  0.0000e+00],\n",
      "         [ 0.0000e+00,  0.0000e+00,  0.0000e+00]],\n",
      "\n",
      "        ...,\n",
      "\n",
      "        [[ 0.0000e+00,  0.0000e+00,  0.0000e+00],\n",
      "         [ 2.0000e-16,  1.9781e+00,  1.9781e+00],\n",
      "         [ 1.9781e+00,  1.0000e-16,  1.9781e+00],\n",
      "         ...,\n",
      "         [ 0.0000e+00,  0.0000e+00,  0.0000e+00],\n",
      "         [ 0.0000e+00,  0.0000e+00,  0.0000e+00],\n",
      "         [ 0.0000e+00,  0.0000e+00,  0.0000e+00]],\n",
      "\n",
      "        [[ 0.0000e+00,  0.0000e+00,  0.0000e+00],\n",
      "         [ 0.0000e+00,  0.0000e+00,  0.0000e+00],\n",
      "         [ 0.0000e+00,  0.0000e+00,  0.0000e+00],\n",
      "         ...,\n",
      "         [ 0.0000e+00,  0.0000e+00,  0.0000e+00],\n",
      "         [ 0.0000e+00,  0.0000e+00,  0.0000e+00],\n",
      "         [ 0.0000e+00,  0.0000e+00,  0.0000e+00]],\n",
      "\n",
      "        [[-1.5198e-09,  1.7161e+00,  1.8658e+00],\n",
      "         [ 1.4862e+00,  8.5804e-01,  4.3636e+00],\n",
      "         [ 0.0000e+00,  0.0000e+00,  0.0000e+00],\n",
      "         ...,\n",
      "         [ 0.0000e+00,  0.0000e+00,  0.0000e+00],\n",
      "         [ 0.0000e+00,  0.0000e+00,  0.0000e+00],\n",
      "         [ 0.0000e+00,  0.0000e+00,  0.0000e+00]]], dtype=torch.float64), tensor([[[0., 0., 0.],\n",
      "         [0., 0., 0.],\n",
      "         [0., 0., 0.],\n",
      "         ...,\n",
      "         [0., 0., 0.],\n",
      "         [0., 0., 0.],\n",
      "         [0., 0., 0.]],\n",
      "\n",
      "        [[0., 0., 0.],\n",
      "         [0., 0., 0.],\n",
      "         [0., 0., 0.],\n",
      "         ...,\n",
      "         [0., 0., 0.],\n",
      "         [0., 0., 0.],\n",
      "         [0., 0., 0.]],\n",
      "\n",
      "        [[0., 0., 0.],\n",
      "         [0., 0., 0.],\n",
      "         [0., 0., 0.],\n",
      "         ...,\n",
      "         [0., 0., 0.],\n",
      "         [0., 0., 0.],\n",
      "         [0., 0., 0.]],\n",
      "\n",
      "        ...,\n",
      "\n",
      "        [[0., 0., 0.],\n",
      "         [0., 0., 0.],\n",
      "         [0., 0., 0.],\n",
      "         ...,\n",
      "         [0., 0., 0.],\n",
      "         [0., 0., 0.],\n",
      "         [0., 0., 0.]],\n",
      "\n",
      "        [[0., 0., 0.],\n",
      "         [0., 0., 0.],\n",
      "         [0., 0., 0.],\n",
      "         ...,\n",
      "         [0., 0., 0.],\n",
      "         [0., 0., 0.],\n",
      "         [0., 0., 0.]],\n",
      "\n",
      "        [[0., 0., 0.],\n",
      "         [0., 0., 0.],\n",
      "         [0., 0., 0.],\n",
      "         ...,\n",
      "         [0., 0., 0.],\n",
      "         [0., 0., 0.],\n",
      "         [0., 0., 0.]]], dtype=torch.float64)]\n",
      "****************************************\n"
     ]
    }
   ],
   "source": [
    "print(batch_size)\n",
    "for X,y in dataLoader:\n",
    "    print(X)\n",
    "\n",
    "    print('*'*40)"
   ],
   "metadata": {
    "collapsed": false,
    "pycharm": {
     "name": "#%%\n"
    }
   }
  },
  {
   "cell_type": "code",
   "execution_count": null,
   "outputs": [],
   "source": [],
   "metadata": {
    "collapsed": false,
    "pycharm": {
     "name": "#%%\n"
    }
   }
  }
 ],
 "metadata": {
  "kernelspec": {
   "display_name": "Python 3",
   "language": "python",
   "name": "python3"
  },
  "language_info": {
   "codemirror_mode": {
    "name": "ipython",
    "version": 2
   },
   "file_extension": ".py",
   "mimetype": "text/x-python",
   "name": "python",
   "nbconvert_exporter": "python",
   "pygments_lexer": "ipython2",
   "version": "2.7.6"
  }
 },
 "nbformat": 4,
 "nbformat_minor": 0
}